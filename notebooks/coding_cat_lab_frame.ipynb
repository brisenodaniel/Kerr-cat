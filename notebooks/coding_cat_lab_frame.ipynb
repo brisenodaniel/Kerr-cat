{
 "cells": [
  {
   "cell_type": "markdown",
   "id": "25a9d82b-83cc-408f-8039-65778a0ca2b9",
   "metadata": {},
   "source": [
    "## packages"
   ]
  },
  {
   "cell_type": "code",
   "execution_count": 1,
   "id": "003814dc-1f90-4061-a175-9f3040cecd1a",
   "metadata": {
    "execution": {
     "iopub.execute_input": "2025-06-04T17:11:24.138469Z",
     "iopub.status.busy": "2025-06-04T17:11:24.138469Z",
     "iopub.status.idle": "2025-06-04T17:11:24.172161Z",
     "shell.execute_reply": "2025-06-04T17:11:24.172161Z",
     "shell.execute_reply.started": "2025-06-04T17:11:24.138469Z"
    }
   },
   "outputs": [],
   "source": [
    "%load_ext autoreload\n",
    "    \n",
    "%autoreload 2"
   ]
  },
  {
   "cell_type": "code",
   "execution_count": 2,
   "id": "4b6c9d15-55fe-48aa-96b7-3f313e8eab5e",
   "metadata": {
    "execution": {
     "iopub.execute_input": "2025-06-04T17:11:25.192253Z",
     "iopub.status.busy": "2025-06-04T17:11:25.192253Z",
     "iopub.status.idle": "2025-06-04T17:11:25.217904Z",
     "shell.execute_reply": "2025-06-04T17:11:25.217904Z",
     "shell.execute_reply.started": "2025-06-04T17:11:25.192253Z"
    }
   },
   "outputs": [],
   "source": [
    "import warnings\n",
    "warnings.filterwarnings(\"ignore\", category=DeprecationWarning)\n",
    "warnings.filterwarnings(\"ignore\", category=FutureWarning)"
   ]
  },
  {
   "cell_type": "code",
   "execution_count": 3,
   "id": "eb56529e-2dff-4216-b1a8-41d30a259190",
   "metadata": {
    "Collapsed": "false",
    "execution": {
     "iopub.execute_input": "2025-06-04T17:11:25.422278Z",
     "iopub.status.busy": "2025-06-04T17:11:25.421276Z",
     "iopub.status.idle": "2025-06-04T17:11:31.016086Z",
     "shell.execute_reply": "2025-06-04T17:11:31.016086Z",
     "shell.execute_reply.started": "2025-06-04T17:11:25.422278Z"
    }
   },
   "outputs": [],
   "source": [
    "# from kerr_cat.notebooks.qnl_trajectories import *\n",
    "from matplotlib import pyplot as plt\n",
    "from matplotlib import cm\n",
    "import pickle\n",
    "import time \n",
    "import matplotlib as mpl\n",
    "# import plotting_settings\n",
    "# from kerr_cat.notebooks.qnl_trajectories.analysis.utils import greek, find_nearest\n",
    "import qutip as qt\n",
    "from qutip import *\n",
    "# from kerr_cat.notebooks.qnl_trajectories.analysis.gate_error_diagnosis.plotting import plot_operator\n",
    "from scipy import constants\n",
    "import numpy as np\n",
    "from scipy import signal\n",
    "import scipy as sp\n",
    "import pickle"
   ]
  },
  {
   "cell_type": "code",
   "execution_count": 529,
   "id": "0fc6dd53-284c-40ab-8abb-5035a2387dcb",
   "metadata": {
    "execution": {
     "iopub.execute_input": "2025-06-09T23:31:54.670380Z",
     "iopub.status.busy": "2025-06-09T23:31:54.669875Z",
     "iopub.status.idle": "2025-06-09T23:31:54.774130Z",
     "shell.execute_reply": "2025-06-09T23:31:54.773669Z",
     "shell.execute_reply.started": "2025-06-09T23:31:54.670380Z"
    }
   },
   "outputs": [
    {
     "data": {
      "text/plain": [
       "'4.7.5'"
      ]
     },
     "execution_count": 529,
     "metadata": {},
     "output_type": "execute_result"
    }
   ],
   "source": [
    "qt.__version__"
   ]
  },
  {
   "cell_type": "code",
   "execution_count": 473,
   "id": "eef91378-9086-468a-9032-772951ce7534",
   "metadata": {
    "execution": {
     "iopub.execute_input": "2025-06-05T20:55:29.141340Z",
     "iopub.status.busy": "2025-06-05T20:55:29.140340Z",
     "iopub.status.idle": "2025-06-05T20:55:29.199900Z",
     "shell.execute_reply": "2025-06-05T20:55:29.199900Z",
     "shell.execute_reply.started": "2025-06-05T20:55:29.141340Z"
    }
   },
   "outputs": [],
   "source": [
    "def wigner(state, a_lim = None, ax = None):\n",
    "    position = np.sqrt(alpha_sq+det0/K/2)*np.sqrt(2)\n",
    "    re_a = np.linspace(-position - 2, position + 2 , 101)\n",
    "    im_a = np.linspace(-5, 5, 101)\n",
    "    if a_lim is not None:\n",
    "        re_a = np.linspace(-a_lim, a_lim, 101)\n",
    "        im_a = np.linspace(-a_lim, a_lim, 101)\n",
    "        \n",
    "    W_psi0 = qt.wigner(state, re_a, im_a)\n",
    "    if ax is None:\n",
    "        for W in [W_psi0]:\n",
    "            # plt.figure(figsize=(3, 2))\n",
    "            plt.figure(figsize=(10,10), dpi=50)\n",
    "            plt.pcolormesh(re_a, im_a, W, cmap=plt.cm.RdBu_r, label = 's')\n",
    "            # clims = (-0.3, 0.3)\n",
    "            # plt.clim(clims)\n",
    "            plt.gca().set_aspect('equal')\n",
    "            plt.axis('off')\n",
    "            plt.axhline(0)\n",
    "            plt.axvline(np.sqrt(alpha_sq+det0/K/2)*np.sqrt(2))\n",
    "            plt.axvline(-np.sqrt(alpha_sq+det0/K/2)*np.sqrt(2))\n",
    "    else:\n",
    "        for W in [W_psi0]:\n",
    "            # plt.figure(figsize=(3, 2))\n",
    "            ax.pcolormesh(re_a, im_a, W, cmap=plt.cm.RdBu_r, label = 's')\n",
    "            # clims = (-0.3, 0.3)\n",
    "            # plt.clim(clims)\n",
    "            ax.set_aspect('equal')\n",
    "            ax.axis('off')\n",
    "            ax.axhline(0)\n",
    "            ax.axvline(np.sqrt(alpha_sq+det0/K/2)*np.sqrt(2))\n",
    "            ax.axvline(-np.sqrt(alpha_sq+det0/K/2)*np.sqrt(2))"
   ]
  },
  {
   "cell_type": "markdown",
   "id": "fd557ec1-526a-4814-a130-ac7a2519397b",
   "metadata": {},
   "source": [
    "## Single cat parameters"
   ]
  },
  {
   "cell_type": "code",
   "execution_count": 6,
   "id": "136146b0-1463-4627-bdfe-2a5605098f99",
   "metadata": {
    "execution": {
     "iopub.execute_input": "2025-06-04T17:12:04.255606Z",
     "iopub.status.busy": "2025-06-04T17:12:04.255606Z",
     "iopub.status.idle": "2025-06-04T17:12:04.311243Z",
     "shell.execute_reply": "2025-06-04T17:12:04.311243Z",
     "shell.execute_reply.started": "2025-06-04T17:12:04.255606Z"
    }
   },
   "outputs": [],
   "source": [
    "# n_levels = 30 # size of the Hilbert space\n",
    "Ks =  2*np.pi*1e6 * np.array([1.1,1.1]) # Kerr in Hz\n",
    "alpha_sqs = [4,4] # Cat size \n",
    "det0s = np.array([0,0])*Ks"
   ]
  },
  {
   "cell_type": "markdown",
   "id": "b381a171-dac9-48b9-b646-ca341f957d6a",
   "metadata": {},
   "source": [
    "## Single cat Hamiltonians"
   ]
  },
  {
   "cell_type": "code",
   "execution_count": 7,
   "id": "57c57f46-3418-4558-8a0b-2997443ecd9c",
   "metadata": {
    "execution": {
     "iopub.execute_input": "2025-06-04T17:12:06.076874Z",
     "iopub.status.busy": "2025-06-04T17:12:06.076874Z",
     "iopub.status.idle": "2025-06-04T17:12:06.133296Z",
     "shell.execute_reply": "2025-06-04T17:12:06.132790Z",
     "shell.execute_reply.started": "2025-06-04T17:12:06.076874Z"
    }
   },
   "outputs": [],
   "source": [
    "def Hcat_det(K, alpha_sq, det, n_levels):\n",
    "    a = qt.destroy(n_levels)\n",
    "    return det*a.dag()*a- K * a.dag() * a.dag() * a * a + K * (alpha_sq * a.dag() *a.dag() + np.conj(alpha_sq) *a * a)"
   ]
  },
  {
   "cell_type": "code",
   "execution_count": 8,
   "id": "7e0b3526-5040-4d5f-ba27-b2f4361cfd7f",
   "metadata": {
    "execution": {
     "iopub.execute_input": "2025-06-04T17:12:06.324961Z",
     "iopub.status.busy": "2025-06-04T17:12:06.324961Z",
     "iopub.status.idle": "2025-06-04T17:12:06.381182Z",
     "shell.execute_reply": "2025-06-04T17:12:06.380671Z",
     "shell.execute_reply.started": "2025-06-04T17:12:06.324961Z"
    }
   },
   "outputs": [],
   "source": [
    "def Hcat_drive(t, epsilon, n_levels, detuning):\n",
    "    a = qt.destroy(n_levels)\n",
    "    return epsilon.conj() * a * np.exp(-1j*detuning*t) + epsilon * a.dag() * np.exp(1j*detuning*t)"
   ]
  },
  {
   "cell_type": "markdown",
   "id": "aa941279-7d97-4079-9154-c44de2422509",
   "metadata": {},
   "source": [
    "# Two cat effective Hamiltonian"
   ]
  },
  {
   "cell_type": "code",
   "execution_count": 15,
   "id": "739b210c-799c-44ae-8ff3-aa027765955d",
   "metadata": {
    "execution": {
     "iopub.execute_input": "2025-06-04T17:15:29.110324Z",
     "iopub.status.busy": "2025-06-04T17:15:29.110324Z",
     "iopub.status.idle": "2025-06-04T17:15:29.429322Z",
     "shell.execute_reply": "2025-06-04T17:15:29.429322Z",
     "shell.execute_reply.started": "2025-06-04T17:15:29.110324Z"
    }
   },
   "outputs": [
    {
     "data": {
      "application/vnd.jupyter.widget-view+json": {
       "model_id": "3ff8bed48b2c4dad8ac4eada29b0ba8d",
       "version_major": 2,
       "version_minor": 0
      },
      "text/plain": [
       "interactive(children=(IntSlider(value=5, description='n_levels', min=5, readout_format='0.3f'), Output()), _do…"
      ]
     },
     "metadata": {},
     "output_type": "display_data"
    }
   ],
   "source": [
    "def H_two_cat_det(Ks, alpha_sqs, dets, n_levels):\n",
    "    a1 = qt.tensor(qt.destroy(n_levels), qt.identity(n_levels))\n",
    "    a2 = qt.tensor(qt.identity(n_levels), qt.destroy(n_levels))\n",
    "    # print(Ks, alpha_sqs, dets)\n",
    "    return dets[0]*a1.dag()*a1- Ks[0] * a1.dag() * a1.dag() * a1 * a1 + Ks[0] * (alpha_sqs[0] * a1.dag() *a1.dag() + np.conj(alpha_sqs[0]) *a1 * a1)\\\n",
    "          +dets[1]*a2.dag()*a2- Ks[1] * a2.dag() * a2.dag() * a2 * a2 + Ks[1] * (alpha_sqs[1] * a2.dag() *a2.dag() + np.conj(alpha_sqs[1]) *a2 * a2)\n",
    "%matplotlib inline\n",
    "import ipywidgets as widgets\n",
    "from ipywidgets import interact, fixed\n",
    "from matplotlib import pyplot as plt\n",
    "import numpy as np\n",
    "@interact(\n",
    "    n_levels = widgets.IntSlider(5, min=5, max=100, step=1, readout_format='0.3f')\n",
    ")\n",
    "\n",
    "def plot(n_levels):\n",
    "    a = qt.destroy(n_levels)\n",
    "    n = a.dag()*a\n",
    "    p = qt.Qobj(np.diag((-1)**np.diag(n.full())))\n",
    "\n",
    "    gnd0 = qt.basis(n_levels,0)\n",
    "    gnd1 = qt.basis(n_levels,1)\n",
    "    \n",
    "    eneg, ss_cat_evecs = qt.simdiag([Hcat_det(Ks[0], alpha_sqs[0], det0s[0], n_levels), p], evals = True)\n",
    "    print(eneg[1][-1:-5:-1])\n",
    "    psi0 = ss_cat_evecs[-1] if eneg[1][-1] > 0 else ss_cat_evecs[-2] # Start in one of the cat states., define +X as the even states\n",
    "    psi1 = ss_cat_evecs[-1] if eneg[1][-1] < 0 else ss_cat_evecs[-2] # Start in one of the cat states., define -X as the even states\n",
    "    \n",
    "    overlap00 = psi0.overlap(gnd0)\n",
    "    overlap11 = psi1.overlap(gnd1)\n",
    "    \n",
    "    psi0 = psi0 * np.exp(1j*np.angle(overlap00))\n",
    "    psi1 = psi1 * np.exp(1j*np.angle(overlap11) + 1j*np.angle(alpha_sq)/2)\n",
    "    \n",
    "    psi_alpha=1/np.sqrt(2)*(psi0+psi1)\n",
    "    psi_malpha=1/np.sqrt(2)*(psi0-psi1)\n",
    "    \n",
    "    psi_y=1/np.sqrt(2)*(psi0-1j*psi1)\n",
    "    psi_my=1/np.sqrt(2)*(psi0+1j*psi1)\n",
    "    \n",
    "    basis_states = [psi0, psi1, psi_alpha, psi_malpha, psi_y, psi_my]\n",
    "    basis_names = ['+X', '-X', '+Z', '-Z', '+Y', '-Y']\n",
    "\n",
    "    psi00 = qt.tensor(psi0, psi0)\n",
    "    psi01 = qt.tensor(psi0, psi1)\n",
    "    psi10 = qt.tensor(psi1, psi0)\n",
    "    psi11 = qt.tensor(psi1, psi1)\n",
    "\n",
    "    p1 = qt.tensor(p,qt.identity(n_levels))\n",
    "    p2 = qt.tensor(qt.identity(n_levels), p)\n",
    "    \n",
    "    eneg2, ss_cat_evecs2 = qt.simdiag([p1, p2, H_two_cat_det(Ks, alpha_sqs, det0s, n_levels)], evals = True, safe_mode = True)\n",
    "    indices = np.argsort(eneg2[2])\n",
    "    ss_cat_evecs2 = [ss_cat_evecs2[index] for index in indices]\n",
    "    print(np.array(eneg2[0])[indices[-1:-5:-1]],np.array(eneg2[1])[indices[-1:-5:-1]])\n",
    "    for i in range(1,5):\n",
    "        overlap = [abs(ss_cat_evecs2[-i].overlap(psi00))**2,abs(ss_cat_evecs2[-i].overlap(psi01))**2,abs(ss_cat_evecs2[-i].overlap(psi10))**2,abs(ss_cat_evecs2[-i].overlap(psi11))**2]\n",
    "        index = np.argmax(overlap)\n",
    "        if index == 0:\n",
    "            psi00_real = ss_cat_evecs2[-i]\n",
    "        if index == 1:\n",
    "            psi01_real = ss_cat_evecs2[-i]\n",
    "        if index == 2:\n",
    "            psi10_real = ss_cat_evecs2[-i]\n",
    "        if index == 3:\n",
    "            psi11_real = ss_cat_evecs2[-i]\n",
    "    re_a = np.linspace(-8, 8, 101)\n",
    "    im_a = np.linspace(-5, 5, 101)\n",
    "    W_psi0 = qt.wigner(psi00_real.ptrace(0), re_a, im_a)\n",
    "    W_psi1 = qt.wigner(psi00_real.ptrace(1), re_a, im_a)\n",
    "    W_psi2 = qt.wigner(psi01_real.ptrace(0), re_a, im_a)\n",
    "    W_psi3 = qt.wigner(psi01_real.ptrace(1), re_a, im_a)\n",
    "    W_psi4 = qt.wigner(psi10_real.ptrace(0), re_a, im_a)\n",
    "    W_psi5 = qt.wigner(psi10_real.ptrace(1), re_a, im_a)\n",
    "    W_psi6 = qt.wigner(psi11_real.ptrace(0), re_a, im_a)\n",
    "    W_psi7 = qt.wigner(psi11_real.ptrace(1), re_a, im_a)\n",
    "    \n",
    "    fig, ax = plt.subplots(2,4)\n",
    "    count = 0\n",
    "    for W in [W_psi0,W_psi1,W_psi2,W_psi3,W_psi4,W_psi5, W_psi6, W_psi7]:\n",
    "        ax[count%2, count//2].pcolormesh(re_a, im_a, W, cmap=plt.cm.RdBu_r, label = 's',vmin = -0.3, vmax = 0.3)\n",
    "        ax[count%2, count//2].set_aspect('equal')\n",
    "        ax[count%2, count//2].axis('off')\n",
    "        ax[count%2, count//2].set_title(count)\n",
    "        count += 1\n",
    "    print(n_levels)"
   ]
  },
  {
   "cell_type": "code",
   "execution_count": 37,
   "id": "17a70692-006f-491c-992a-4fb35ca05fde",
   "metadata": {
    "execution": {
     "iopub.execute_input": "2025-06-04T17:21:21.667667Z",
     "iopub.status.busy": "2025-06-04T17:21:21.666665Z",
     "iopub.status.idle": "2025-06-04T17:21:21.728334Z",
     "shell.execute_reply": "2025-06-04T17:21:21.728334Z",
     "shell.execute_reply.started": "2025-06-04T17:21:21.666665Z"
    }
   },
   "outputs": [],
   "source": [
    "# Check the optimal n_levels number\n",
    "def optimal_n_levels(plot = True):\n",
    "    K = np.max(Ks)\n",
    "    alpha_sq = np.max(alpha_sqs)\n",
    "    det0 = np.max(det0s)\n",
    "    overlap = []\n",
    "    flag = True\n",
    "    for i, n_levels in enumerate(np.arange(5,101)):\n",
    "        a = qt.destroy(n_levels)\n",
    "        n = a.dag()*a\n",
    "        p = qt.Qobj(np.diag((-1)**np.diag(n.full())))\n",
    "        try:\n",
    "            _, ss_cat_evecs = qt.simdiag([Hcat_det(K, alpha_sq, det0, n_levels), p], evals = True)\n",
    "        except TypeError:\n",
    "            overlap.append(np.nan)\n",
    "            continue\n",
    "        psi0 = ss_cat_evecs[-1] # Start in one of the cat states.\n",
    "        psi1 = ss_cat_evecs[-2]\n",
    "        psi_alpha=1/np.sqrt(2)*(ss_cat_evecs[-1]+ss_cat_evecs[-2])\n",
    "        alpha = np.real(qt.coherent_dm(n_levels, np.sqrt(alpha_sq+det0/2/K)).overlap(psi_alpha))\n",
    "        malpha = np.real(qt.coherent_dm(n_levels, -np.sqrt(alpha_sq+det0/2/K)).overlap(psi_alpha))\n",
    "        overlap_val = alpha if alpha > malpha else malpha\n",
    "        overlap.append(overlap_val)\n",
    "        if i > 5:\n",
    "            if overlap[i] >= 0.9 and np.abs(overlap[i]-overlap[i-5])<=1e-5 and n_levels >= 10 and flag:\n",
    "                try:\n",
    "                        # print('hello')\n",
    "                    a = qt.destroy(n_levels+5)\n",
    "                    n = a.dag()*a\n",
    "                    p = qt.Qobj(np.diag((-1)**np.diag(n.full())))\n",
    "                    _, ss_cat_evecs = qt.simdiag([Hcat_det(K, alpha_sq, det0, n_levels + 5), p], evals = True)\n",
    "                    n_levels_opt = n_levels+5\n",
    "                    flag = False\n",
    "                    if not plot:\n",
    "                        break\n",
    "                except TypeError:\n",
    "                    continue\n",
    "    if plot:\n",
    "        plt.plot(np.arange(5,101), overlap)\n",
    "        plt.ylim(0.9,1.1)\n",
    "        plt.xlabel('n_levels')\n",
    "        plt.ylabel('overlap with coherent state')\n",
    "        plt.grid()\n",
    "    return n_levels_opt"
   ]
  },
  {
   "cell_type": "code",
   "execution_count": 38,
   "id": "a818219c-9889-45fe-b80a-7d40efa1f79d",
   "metadata": {
    "execution": {
     "iopub.execute_input": "2025-06-04T17:21:22.605831Z",
     "iopub.status.busy": "2025-06-04T17:21:22.605831Z",
     "iopub.status.idle": "2025-06-04T17:21:24.710068Z",
     "shell.execute_reply": "2025-06-04T17:21:24.710068Z",
     "shell.execute_reply.started": "2025-06-04T17:21:22.605831Z"
    }
   },
   "outputs": [
    {
     "data": {
      "image/png": "[encoded data removed]",
      "text/plain": [
       "<Figure size 640x480 with 1 Axes>"
      ]
     },
     "metadata": {},
     "output_type": "display_data"
    }
   ],
   "source": [
    "n_levels = optimal_n_levels(plot)"
   ]
  },
  {
   "cell_type": "code",
   "execution_count": 40,
   "id": "1c20164d-3c56-464b-b95c-f4234caf6e27",
   "metadata": {
    "execution": {
     "iopub.execute_input": "2025-06-04T17:21:29.513688Z",
     "iopub.status.busy": "2025-06-04T17:21:29.513688Z",
     "iopub.status.idle": "2025-06-04T17:21:29.573409Z",
     "shell.execute_reply": "2025-06-04T17:21:29.572899Z",
     "shell.execute_reply.started": "2025-06-04T17:21:29.513688Z"
    }
   },
   "outputs": [],
   "source": [
    "# define the two cat Hamiltonian and operators\n",
    "a = qt.destroy(n_levels)\n",
    "iden = qt.identity(n_levels)\n",
    "a1 = qt.tensor(a, iden)\n",
    "a2 = qt.tensor(iden, a)\n",
    "\n",
    "def H_two_cat_det(Ks, alpha_sqs, dets, n_levels):\n",
    "    # print(Ks, alpha_sqs, dets)\n",
    "    return dets[0]*a1.dag()*a1- Ks[0] * a1.dag() * a1.dag() * a1 * a1 + Ks[0] * (alpha_sqs[0] * a1.dag() *a1.dag() + np.conj(alpha_sqs[0]) *a1 * a1)\\\n",
    "          +dets[1]*a2.dag()*a2- Ks[1] * a2.dag() * a2.dag() * a2 * a2 + Ks[1] * (alpha_sqs[1] * a2.dag() *a2.dag() + np.conj(alpha_sqs[1]) *a2 * a2)"
   ]
  },
  {
   "cell_type": "code",
   "execution_count": 41,
   "id": "9c67b9f1-2792-4db3-846a-5305eee044a4",
   "metadata": {
    "execution": {
     "iopub.execute_input": "2025-06-04T17:21:29.806987Z",
     "iopub.status.busy": "2025-06-04T17:21:29.805988Z",
     "iopub.status.idle": "2025-06-04T17:21:29.872322Z",
     "shell.execute_reply": "2025-06-04T17:21:29.872322Z",
     "shell.execute_reply.started": "2025-06-04T17:21:29.806987Z"
    }
   },
   "outputs": [],
   "source": [
    "def def_basis_states():\n",
    "    gnd0 = qt.basis(n_levels,0)\n",
    "    gnd1 = qt.basis(n_levels,1)\n",
    "    \n",
    "    a = qt.destroy(n_levels)\n",
    "    n = a.dag()*a\n",
    "    p = qt.Qobj(np.diag((-1)**np.diag(n.full())))\n",
    "\n",
    "    global psi_alpha\n",
    "    global psi_malpha\n",
    "    global psi_y\n",
    "    global psi_my\n",
    "    global psi0\n",
    "    global psi1   \n",
    "\n",
    "    global cat00\n",
    "    global cat01\n",
    "    global cat10\n",
    "    global cat11\n",
    "    global psi00_real\n",
    "    global psi01_real\n",
    "    global psi10_real\n",
    "    global psi11_real\n",
    "    global psi00\n",
    "    global psi01\n",
    "    global psi10\n",
    "    global psi11\n",
    "    a = qt.destroy(n_levels)\n",
    "    n = a.dag()*a\n",
    "    p = qt.Qobj(np.diag((-1)**np.diag(n.full())))\n",
    "\n",
    "    gnd0 = qt.basis(n_levels,0)\n",
    "    gnd1 = qt.basis(n_levels,1)\n",
    "    \n",
    "    eneg, ss_cat_evecs = qt.simdiag([Hcat_det(K, alpha_sq, det0, n_levels), p], evals = True)\n",
    "    psi0 = ss_cat_evecs[-1] if eneg[1][-1] > 0 else ss_cat_evecs[-2] # Start in one of the cat states., define +X as the even states\n",
    "    psi1 = ss_cat_evecs[-1] if eneg[1][-1] < 0 else ss_cat_evecs[-2] # Start in one of the cat states., define -X as the even states\n",
    "    \n",
    "    overlap00 = psi0.overlap(gnd0)\n",
    "    overlap11 = psi1.overlap(gnd1)\n",
    "    \n",
    "    psi0 = psi0 * np.exp(1j*np.angle(overlap00))\n",
    "    psi1 = psi1 * np.exp(1j*np.angle(overlap11) + 1j*np.angle(alpha_sq)/2)\n",
    "    \n",
    "    psi_alpha=1/np.sqrt(2)*(psi0+psi1)\n",
    "    psi_malpha=1/np.sqrt(2)*(psi0-psi1)\n",
    "    \n",
    "    psi_y=1/np.sqrt(2)*(psi0-1j*psi1)\n",
    "    psi_my=1/np.sqrt(2)*(psi0+1j*psi1)\n",
    "    \n",
    "    basis_states = [psi0, psi1, psi_alpha, psi_malpha, psi_y, psi_my]\n",
    "    basis_names = ['+X', '-X', '+Z', '-Z', '+Y', '-Y']\n",
    "\n",
    "    psi00 = qt.tensor(psi0, psi0)\n",
    "    psi01 = qt.tensor(psi0, psi1)\n",
    "    psi10 = qt.tensor(psi1, psi0)\n",
    "    psi11 = qt.tensor(psi1, psi1)\n",
    "\n",
    "    p1 = qt.tensor(p,qt.identity(n_levels))\n",
    "    p2 = qt.tensor(qt.identity(n_levels), p)\n",
    "    eneg2, ss_cat_evecs2 = qt.simdiag([p1, p2, H_two_cat_det(Ks, alpha_sqs, det0s, n_levels)], evals = True, safe_mode = False)\n",
    "    indices = np.argsort(eneg2[2])\n",
    "    ss_cat_evecs2 = [ss_cat_evecs2[index] for index in indices]\n",
    "    print(np.array(eneg2[0])[indices[-1:-5:-1]],np.array(eneg2[1])[indices[-1:-5:-1]])\n",
    "    for i in range(1,5):\n",
    "        overlap = [abs(ss_cat_evecs2[-i].overlap(psi00))**2,abs(ss_cat_evecs2[-i].overlap(psi01))**2,abs(ss_cat_evecs2[-i].overlap(psi10))**2,abs(ss_cat_evecs2[-i].overlap(psi11))**2]\n",
    "        index = np.argmax(overlap)\n",
    "        if index == 0:\n",
    "            psi00_real = ss_cat_evecs2[-i]\n",
    "        if index == 1:\n",
    "            psi01_real = ss_cat_evecs2[-i]\n",
    "        if index == 2:\n",
    "            psi10_real = ss_cat_evecs2[-i]\n",
    "        if index == 3:\n",
    "            psi11_real = ss_cat_evecs2[-i]\n",
    "    # psi0 uis the eigenstates, which is the cat state, cat00 is the bloch 00 state of the cat computational basis, which is |alpha> x |alpha>\n",
    "    \n",
    "    cat00 = (psi00_real+psi01_real+psi10_real+psi11_real)/2\n",
    "    cat01 = (psi00_real-psi01_real+psi10_real-psi11_real)/2\n",
    "    cat10 = (psi00_real+psi01_real-psi10_real-psi11_real)/2\n",
    "    cat11 = (psi00_real-psi01_real-psi10_real+psi11_real)/2"
   ]
  },
  {
   "cell_type": "code",
   "execution_count": 42,
   "id": "9d4d88ca-601e-4eb2-afa3-a38a5903ceb0",
   "metadata": {
    "execution": {
     "iopub.execute_input": "2025-06-04T17:21:30.144488Z",
     "iopub.status.busy": "2025-06-04T17:21:30.144488Z",
     "iopub.status.idle": "2025-06-04T17:21:31.777224Z",
     "shell.execute_reply": "2025-06-04T17:21:31.777224Z",
     "shell.execute_reply.started": "2025-06-04T17:21:30.144488Z"
    }
   },
   "outputs": [
    {
     "name": "stdout",
     "output_type": "stream",
     "text": [
      "[ 1.  1. -1. -1.] [ 1. -1.  1. -1.]\n"
     ]
    }
   ],
   "source": [
    "def_basis_states()"
   ]
  },
  {
   "cell_type": "markdown",
   "id": "e06d645c-3dd0-47d2-b6d0-f7a62cab5ede",
   "metadata": {},
   "source": [
    "# some random lab frame Hamiltonian test"
   ]
  },
  {
   "cell_type": "code",
   "execution_count": 521,
   "id": "babf80ca-a54a-4d2f-b92b-88c739cf7dce",
   "metadata": {
    "execution": {
     "iopub.execute_input": "2025-06-09T20:56:58.937804Z",
     "iopub.status.busy": "2025-06-09T20:56:58.937804Z",
     "iopub.status.idle": "2025-06-09T20:56:58.997287Z",
     "shell.execute_reply": "2025-06-09T20:56:58.997287Z",
     "shell.execute_reply.started": "2025-06-09T20:56:58.937804Z"
    }
   },
   "outputs": [],
   "source": [
    "K = -2*np.pi*1.2e6\n",
    "g4 = K/6\n",
    "g3 = 2*np.pi*8*1e6\n",
    "omega = 2*np.pi*5e9\n",
    "n_levels = 25\n",
    "a = qt.destroy(n_levels)\n",
    "def Hcat_lab_static(n_levels, omega, g3, g4):\n",
    "    a = qt.destroy(n_levels)\n",
    "    return omega * a.dag()*a + g3 * (a.dag()+a)**3 + g4 * (a.dag()+a)**4\n",
    "\n",
    "def Hcat_lab_static_only_kerr(n_levels, omega, g3, g4):\n",
    "    a = qt.destroy(n_levels)\n",
    "    return omega * a.dag()*a + g3 * (a.dag()+a)**3 + 6*g4*a.dag()*a.dag()*a*a\n",
    "\n",
    "def Hcat_lab_static_only_RWA(n_levels, omega, g3, g4):\n",
    "    a = qt.destroy(n_levels)\n",
    "    return omega * a.dag()*a + 3 * g3 * (a.dag()*a.dag()*a + a.dag()*a*a) + 6*g4*a.dag()*a.dag()*a*a"
   ]
  },
  {
   "cell_type": "code",
   "execution_count": 522,
   "id": "ee4201ec-90e6-48f1-928d-e0648c6879eb",
   "metadata": {
    "execution": {
     "iopub.execute_input": "2025-06-09T20:56:59.212054Z",
     "iopub.status.busy": "2025-06-09T20:56:59.211054Z",
     "iopub.status.idle": "2025-06-09T20:56:59.274532Z",
     "shell.execute_reply": "2025-06-09T20:56:59.274024Z",
     "shell.execute_reply.started": "2025-06-09T20:56:59.212054Z"
    }
   },
   "outputs": [],
   "source": [
    "def find_energy(enegs, evecs, state):\n",
    "    return enegs[np.array([qt.ket2dm(state).overlap(evecs[i]) for i in range(len(evecs))]).argmax()]\n",
    "def find_evecs(enegs, evecs, state):\n",
    "    return evecs[np.array([qt.ket2dm(state).overlap(evecs[i]) for i in range(len(evecs))]).argmax()]"
   ]
  },
  {
   "cell_type": "code",
   "execution_count": 523,
   "id": "be6dfe40-c0f2-4ed3-94ee-191783146fdd",
   "metadata": {
    "execution": {
     "iopub.execute_input": "2025-06-09T20:56:59.526680Z",
     "iopub.status.busy": "2025-06-09T20:56:59.526680Z",
     "iopub.status.idle": "2025-06-09T20:56:59.594988Z",
     "shell.execute_reply": "2025-06-09T20:56:59.594988Z",
     "shell.execute_reply.started": "2025-06-09T20:56:59.526680Z"
    }
   },
   "outputs": [],
   "source": [
    "Hcat_static = Hcat_lab_static(n_levels, omega, g3, g4)\n",
    "Hcat_static_only_kerr = Hcat_lab_static_only_kerr(n_levels, omega, g3, g4)\n",
    "\n",
    "evals, evecs = Hcat_static.eigenstates()"
   ]
  },
  {
   "cell_type": "code",
   "execution_count": 524,
   "id": "d09897e3-c69f-426b-994d-981dffdf698f",
   "metadata": {
    "execution": {
     "iopub.execute_input": "2025-06-09T20:57:00.333939Z",
     "iopub.status.busy": "2025-06-09T20:57:00.333939Z",
     "iopub.status.idle": "2025-06-09T20:57:00.430659Z",
     "shell.execute_reply": "2025-06-09T20:57:00.430659Z",
     "shell.execute_reply.started": "2025-06-09T20:57:00.333939Z"
    }
   },
   "outputs": [],
   "source": [
    "omega01 = (find_energy(evals, evecs, qt.basis(n_levels, 1)) - find_energy(evals, evecs, qt.basis(n_levels, 0)))/2/np.pi/1e9\n",
    "omega12 = (find_energy(evals, evecs, qt.basis(n_levels, 2)) - find_energy(evals, evecs, qt.basis(n_levels, 1)))/2/np.pi/1e9"
   ]
  },
  {
   "cell_type": "code",
   "execution_count": 525,
   "id": "3c8836dc-7b44-4931-9e46-cb45fbd1f68a",
   "metadata": {
    "execution": {
     "iopub.execute_input": "2025-06-09T20:57:04.764557Z",
     "iopub.status.busy": "2025-06-09T20:57:04.764557Z",
     "iopub.status.idle": "2025-06-09T20:57:04.826853Z",
     "shell.execute_reply": "2025-06-09T20:57:04.826349Z",
     "shell.execute_reply.started": "2025-06-09T20:57:04.764557Z"
    }
   },
   "outputs": [],
   "source": [
    "def profile(t, profile_type, profile_params):\n",
    "    if profile_type == 'raise':\n",
    "        T_ramp = profile_params['T_ramp']\n",
    "        result = np.sin(np.pi/2*t/T_ramp)**2 if t<=T_ramp else 1\n",
    "    if profile_type == 'pulse':\n",
    "        Tg = profile_params['Tg']\n",
    "        T_ramp = profile_params['T_ramp']\n",
    "        if t<T_ramp:\n",
    "            result = np.sin(np.pi/2*t/T_ramp)**2\n",
    "        elif t>Tg-T_ramp:\n",
    "            result = np.sin(np.pi/2*(Tg-t)/T_ramp)**2\n",
    "        else:\n",
    "            result = 1\n",
    "    return result\n",
    "\n",
    "epsilon_d = np.abs(g4*6*4*2**2*omega/g3/3)\n",
    "\n",
    "H_pump = (qt.destroy(n_levels)+qt.create(n_levels))\n",
    "H_pump_profile = lambda t, args: epsilon_d * profile(t, 'raise', {'T_ramp': 10e-6}) * np.cos(2*omega*t)"
   ]
  },
  {
   "cell_type": "code",
   "execution_count": 526,
   "id": "942fc593-76f9-49da-9741-1b3965ba670a",
   "metadata": {
    "execution": {
     "iopub.execute_input": "2025-06-09T20:57:05.867554Z",
     "iopub.status.busy": "2025-06-09T20:57:05.867554Z",
     "iopub.status.idle": "2025-06-09T20:57:05.925600Z",
     "shell.execute_reply": "2025-06-09T20:57:05.925600Z",
     "shell.execute_reply.started": "2025-06-09T20:57:05.867554Z"
    }
   },
   "outputs": [],
   "source": [
    "H = [Hcat_static_only_kerr, [H_pump, H_pump_profile]]"
   ]
  },
  {
   "cell_type": "code",
   "execution_count": 527,
   "id": "1454eede-e7a9-40d7-970a-fd79e35a7c3d",
   "metadata": {
    "execution": {
     "iopub.execute_input": "2025-06-09T20:57:06.566144Z",
     "iopub.status.busy": "2025-06-09T20:57:06.566144Z",
     "iopub.status.idle": "2025-06-09T21:01:33.025062Z",
     "shell.execute_reply": "2025-06-09T21:01:33.025062Z",
     "shell.execute_reply.started": "2025-06-09T20:57:06.566144Z"
    }
   },
   "outputs": [],
   "source": [
    "ts = np.linspace(0, 10e-6, int(20e-6/0.1e-9))\n",
    "init = qt.basis(n_levels, 0)\n",
    "result = qt.mesolve(H, init, ts, options=qt.Options(store_states=True))"
   ]
  },
  {
   "cell_type": "code",
   "execution_count": 528,
   "id": "ed4748cf-f9e8-4a17-b58b-3b63f8ac1250",
   "metadata": {
    "execution": {
     "iopub.execute_input": "2025-06-09T21:01:33.025062Z",
     "iopub.status.busy": "2025-06-09T21:01:33.025062Z",
     "iopub.status.idle": "2025-06-09T21:01:33.270367Z",
     "shell.execute_reply": "2025-06-09T21:01:33.270367Z",
     "shell.execute_reply.started": "2025-06-09T21:01:33.025062Z"
    }
   },
   "outputs": [
    {
     "data": {
      "application/vnd.jupyter.widget-view+json": {
       "model_id": "c74853ab80594e41be6e5cb31c31b010",
       "version_major": 2,
       "version_minor": 0
      },
      "text/plain": [
       "interactive(children=(IntSlider(value=103200, description='i', max=199999, step=300), Output()), _dom_classes=…"
      ]
     },
     "metadata": {},
     "output_type": "display_data"
    }
   ],
   "source": [
    "%matplotlib inline\n",
    "import ipywidgets as widgets\n",
    "from ipywidgets import interact, fixed\n",
    "from matplotlib import pyplot as plt\n",
    "import numpy as np\n",
    "@interact(\n",
    "    i = widgets.IntSlider(103200, min=0, max=len(ts)-1, step=300, readout_format='d')\n",
    ")\n",
    "\n",
    "def plot(i):\n",
    "    a = qt.destroy(n_levels)\n",
    "    fig, ax = plt.subplots(1,2, figsize = (12,6))\n",
    "    angle = ts[i]*(omega)\n",
    "    wigner((1j*a.dag()*a*angle).expm()*result.states[i], ax = ax[0])\n",
    "    \n",
    "    plt.plot(ts[0::1000], [profile(t, 'raise', {'T_ramp': 5e-6}) for t in ts[0::1000]])\n",
    "    plt.title(ts[i])\n",
    "\n",
    "    \n",
    "    plt.axvline(ts[i])"
   ]
  }
 ],
 "metadata": {
  "kernelspec": {
   "display_name": "qutip_version_4",
   "language": "python",
   "name": "qutip_version_4"
  },
  "language_info": {
   "codemirror_mode": {
    "name": "ipython",
    "version": 3
   },
   "file_extension": ".py",
   "mimetype": "text/x-python",
   "name": "python",
   "nbconvert_exporter": "python",
   "pygments_lexer": "ipython3",
   "version": "3.11.7"
  }
 },
 "nbformat": 4,
 "nbformat_minor": 5
}
